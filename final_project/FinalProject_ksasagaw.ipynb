{
 "cells": [
  {
   "cell_type": "markdown",
   "metadata": {},
   "source": [
    "# Overview\n",
    "The health inspection scores for different restaurants were collected and grouped into two sections: chain restaurants and non-chain restaurants. The scores were then plotted into histograms with each group and were measured against eachother to determine the higher average score per location as well as the highest grouping of scores. The average of the chain restaurant scores and the average of non-chain restaurant scores were compared against eachother as well as the average scores by location.\n",
    "The end result is that there was a slightly higher average score as well as a higher average location score in the chain restaurants vs. the non-chain restaurants.\n",
    "# Name & Github ID\n",
    "+ Name: Kyle Sasagawa \n",
    "+ Github Username: ksasagaw\n",
    "\n",
    "# Research Question\n",
    "Is there a significant difference between the food inspection scores of chain restaurants vs. non-chain restaurants?\n",
    "\n",
    "# Background & Prior Work\n",
    "Food health and safety inspections are a mandatory set of 1-4 annual inspections conducted by a trained health inspector. This health inspector follows a locally or state sourced set of guidelines to assign the restaurant a score, letter grade, or both. A score of 90 or higher, or an 'A', allows for the restaurant to have a few low risk violations or one high risk violation. This score drops from 100 as the number of violations increases. Chain restuarants typically will have a set of company-wide health guidelines and will sometimes have company health inspections. For instance, McDonalds recently had the BRC review their food safety system and highlight possible weakeness in the corporation's food handling practices. It has been noted before that the health practices of specific chain restaurants is dependant on the managers and staff of the local branches, The Oklahoman noted that most chain restaurants scored well on their inspections, but a few locations had an extreme number of violations.\n",
    "\n",
    "In a study done on chain vs. non-chain restaurants in Phildelphia in 2013-14, chain restaurants had significantly fewer health violations per inspections. (https://www.ncbi.nlm.nih.gov/pmc/articles/PMC5349477/) The study also noted that as the number of inspections increased, the number of violations per inspection for non-chain restaurants went down as opposed to chain restaurants which had no noticable changes. It is also worth noting that the number of inspections per year often depends on the type of food being served as well as the restaurant's health inspection history which can change the performance of non-chain restaurants as stated in the study.\n",
    "References:\n",
    "+ 1) https://www.ncbi.nlm.nih.gov/pmc/articles/PMC5349477/\n",
    "+ 2) https://corporate.mcdonalds.com/corpmcd/our-purpose-and-impact/food-quality-and-sourcing/food-safety.html\n",
    "\n",
    "# Hypothesis\n",
    "I believe that chain restaurants will have generally higher scores than those of non-chain restaurants. I believe a wide set of corporate standards for food safety as well as an optimized workflow to promote food safety should return more positive health inspection scores. Chain burger restaurants often customize their workspaces to ensure that raw meat surfaces will never come into contact with anything but raw meat, ensuring that the employee does not have to remember to wash the surface before putting anything on it. Tactics such as these often account for employee error and minimize accidential health risks.\n",
    "# Datasets\n",
    "The restaurants and inspection datasets were used. The restaurants dataset was used to retrieve the names and corresponding hsisid of the listed establisments. The inspections dataset included the hsisid and the health inspection score of the establisment for each inspection it went through. The datasets will be merged along the hsisid column to create a list of inspections for each location as well as the name of the establishment. \n",
    "+ Dataset Name: Inspections\n",
    "+ Link to the dataset:https://github.com/COGS108/individual_fa20/tree/master/data\n",
    "+ Number of observations:21109\n",
    "\n",
    "\n",
    "+ Dataset Name: Restaurants\n",
    "+ Link to the dataset:https://github.com/COGS108/individual_fa20/tree/master/data\n",
    "+ Number of observations:3325"
   ]
  },
  {
   "cell_type": "markdown",
   "metadata": {},
   "source": [
    "# Setup"
   ]
  },
  {
   "cell_type": "code",
   "execution_count": 1,
   "metadata": {},
   "outputs": [],
   "source": [
    "import pandas as pd\n",
    "import string\n",
    "import matplotlib.pyplot as plt\n",
    "import numpy as np"
   ]
  },
  {
   "cell_type": "markdown",
   "metadata": {},
   "source": [
    "# Data Cleaning"
   ]
  },
  {
   "cell_type": "code",
   "execution_count": 2,
   "metadata": {},
   "outputs": [
    {
     "name": "stderr",
     "output_type": "stream",
     "text": [
      "/opt/conda/lib/python3.7/site-packages/ipykernel_launcher.py:8: UserWarning: Boolean Series key will be reindexed to match DataFrame index.\n",
      "  \n"
     ]
    }
   ],
   "source": [
    "inspections = pd.read_csv('inspections.csv')\n",
    "restaurants = pd.read_csv('restaurants.csv')\n",
    "\n",
    "restaurants = restaurants[['hsisid', 'name']][restaurants['facilitytype'] == 'Restaurant'] #Remove all non-restaurant establisments\n",
    "inspections = inspections[['hsisid', 'score', 'num_critical', 'num_non_critical', 'date']]\n",
    "\n",
    "combined = pd.merge(inspections, restaurants, how = 'outer', on  = 'hsisid') #Merge to one dataframe\n",
    "combined = combined[combined['score'].notna()][combined['name'].notna()] #Remove null rows"
   ]
  },
  {
   "cell_type": "code",
   "execution_count": 3,
   "metadata": {},
   "outputs": [],
   "source": [
    "#Collect a set containing the names of the chain restaurants as well as non-chain restaurants\n",
    "names_set = set()\n",
    "chain_set = set()\n",
    "for idx, data in restaurants.iterrows():\n",
    "    name = data['name']\n",
    "    name = name.upper()\n",
    "    name = ''.join(i for i in name if not i.isdigit())\n",
    "    name = name.replace('TARGET', '')\n",
    "    name = name.replace('WALMART', '')\n",
    "    name = name.split('OF')[0]\n",
    "    name = name.split('AT')[0]\n",
    "    name = name.translate(str.maketrans('', '', string.punctuation))\n",
    "    name = name.replace('  ', ' ')\n",
    "    name = name.strip()\n",
    "    #If the location appears more than once, add it to the chain restaurants set\n",
    "    if(name not in names_set):\n",
    "        names_set.add(name)\n",
    "    else:\n",
    "        chain_set.add(name)\n",
    "#Add any edge chain restaurants that were not caught by the above\n",
    "chain_set.update(('NOODLES COMPANY', 'CRACKER BARREL', 'DAIRY QUEEN ORANGE JULIUS', 'JERSEY MIKES A', 'STARBUCKS NORTH HILLS CENTER','KFC','DENNYS RESTAURANT','FIVE GUYS BURGERS FRIES','PANDA EXPRESS','CHUCK E CHEESE','FIVE GUYS BURGERS AMP FRIES NC','STARBUCKS PRESECURITY','DAVE AND BUSTERS','DAIRY QUEEN GRILL AMP CHILL','CALIFORNIA PIZZA KITCHEN','CHOPSTIX','QUIZNOS SUB','FIVE GUYS FAMOUS BURGERS AND FRIES','DAIRY QUEEN FUQUAY','SONIC','QUIZNOS','FIVE GUYS STONECREEK','APPLEBEES AG'))\n",
    "#The list of non-chain establisments is any name not in the chain_restaurants list\n",
    "non_chain = names_set^chain_set"
   ]
  },
  {
   "cell_type": "code",
   "execution_count": 4,
   "metadata": {},
   "outputs": [],
   "source": [
    "#Perform the same name change on the combined dataframe\n",
    "def convert_name(name):\n",
    "    name = name.upper()\n",
    "    name = ''.join(i for i in name if not i.isdigit())\n",
    "    name = name.replace('TARGET', '')\n",
    "    name = name.replace('WALMART', '')\n",
    "    name = name.split('OF')[0]\n",
    "    name = name.split('AT')[0]\n",
    "    name = name.translate(str.maketrans('', '', string.punctuation))\n",
    "    name = name.replace('  ', ' ')\n",
    "    name = name.strip()\n",
    "    return name      \n"
   ]
  },
  {
   "cell_type": "code",
   "execution_count": 5,
   "metadata": {},
   "outputs": [],
   "source": [
    "#Split the combined dataframe into the chain and non-chain dataframes\n",
    "combined['name'] = combined['name'].apply(convert_name)\n",
    "chain_df = combined[combined['name'].isin(chain_set)]\n",
    "non_chain_df = combined[combined['name'].isin(non_chain)]"
   ]
  },
  {
   "cell_type": "markdown",
   "metadata": {},
   "source": [
    "# Data Visualization"
   ]
  },
  {
   "cell_type": "code",
   "execution_count": 6,
   "metadata": {},
   "outputs": [
    {
     "name": "stderr",
     "output_type": "stream",
     "text": [
      "/opt/conda/lib/python3.7/site-packages/ipykernel_launcher.py:3: MatplotlibDeprecationWarning: Adding an axes using the same arguments as a previous axes currently reuses the earlier instance.  In a future version, a new instance will always be created and returned.  Meanwhile, this warning can be suppressed, and the future behavior ensured, by passing a unique label to each axes instance.\n",
      "  This is separate from the ipykernel package so we can avoid doing imports until\n"
     ]
    },
    {
     "data": {
      "text/plain": [
       "Text(0, 0.5, 'Number')"
      ]
     },
     "execution_count": 6,
     "metadata": {},
     "output_type": "execute_result"
    },
    {
     "data": {
      "image/png": "[encoded data removed]",
      "text/plain": [
       "<Figure size 432x288 with 1 Axes>"
      ]
     },
     "metadata": {
      "needs_background": "light"
     },
     "output_type": "display_data"
    }
   ],
   "source": [
    "chain_df['score'].hist()\n",
    "chain_scores = plt.gcf()\n",
    "ax = plt.axes()\n",
    "plt.title('Chain Restaurant Scores',fontsize=18, fontweight='bold', loc='left')\n",
    "ax.set_xlabel('Score', fontsize=16, fontweight='bold')\n",
    "ax.set_ylabel('Number', fontsize=16, fontweight='bold')"
   ]
  },
  {
   "cell_type": "markdown",
   "metadata": {},
   "source": [
    "The histogram of all of the scores for every chain restaurant inspection is graphed above"
   ]
  },
  {
   "cell_type": "code",
   "execution_count": 7,
   "metadata": {},
   "outputs": [
    {
     "name": "stderr",
     "output_type": "stream",
     "text": [
      "/opt/conda/lib/python3.7/site-packages/ipykernel_launcher.py:3: MatplotlibDeprecationWarning: Adding an axes using the same arguments as a previous axes currently reuses the earlier instance.  In a future version, a new instance will always be created and returned.  Meanwhile, this warning can be suppressed, and the future behavior ensured, by passing a unique label to each axes instance.\n",
      "  This is separate from the ipykernel package so we can avoid doing imports until\n"
     ]
    },
    {
     "data": {
      "text/plain": [
       "Text(0, 0.5, 'Number')"
      ]
     },
     "execution_count": 7,
     "metadata": {},
     "output_type": "execute_result"
    },
    {
     "data": {
      "image/png": "[encoded data removed]",
      "text/plain": [
       "<Figure size 432x288 with 1 Axes>"
      ]
     },
     "metadata": {
      "needs_background": "light"
     },
     "output_type": "display_data"
    }
   ],
   "source": [
    "non_chain_df['score'].hist()\n",
    "f2 = plt.gcf()\n",
    "ax2 = plt.axes()\n",
    "plt.title('Non-Chain Restaurant Scores',fontsize=18, fontweight='bold', loc='left')\n",
    "ax2.set_xlabel('Score', fontsize=16, fontweight='bold')\n",
    "ax2.set_ylabel('Number', fontsize=16, fontweight='bold')"
   ]
  },
  {
   "cell_type": "markdown",
   "metadata": {},
   "source": [
    "The histogram of all of the scores for every non-chain restaurant inspection is graphed above"
   ]
  },
  {
   "cell_type": "code",
   "execution_count": 8,
   "metadata": {},
   "outputs": [
    {
     "name": "stderr",
     "output_type": "stream",
     "text": [
      "/opt/conda/lib/python3.7/site-packages/ipykernel_launcher.py:4: MatplotlibDeprecationWarning: Adding an axes using the same arguments as a previous axes currently reuses the earlier instance.  In a future version, a new instance will always be created and returned.  Meanwhile, this warning can be suppressed, and the future behavior ensured, by passing a unique label to each axes instance.\n",
      "  after removing the cwd from sys.path.\n"
     ]
    },
    {
     "data": {
      "text/plain": [
       "Text(0, 0.5, 'Number')"
      ]
     },
     "execution_count": 8,
     "metadata": {},
     "output_type": "execute_result"
    },
    {
     "data": {
      "image/png": "[encoded data removed]",
      "text/plain": [
       "<Figure size 432x288 with 1 Axes>"
      ]
     },
     "metadata": {
      "needs_background": "light"
     },
     "output_type": "display_data"
    }
   ],
   "source": [
    "plt.hist([chain_df['score'], non_chain_df['score']], label=['Chain', 'Non-Chain'])\n",
    "plt.title('Restaurant Scores',fontsize=18, fontweight='bold', loc='left')\n",
    "plt.legend(loc='upper left', scatterpoints=1, frameon=False)\n",
    "ax = plt.axes()\n",
    "ax.set_xlabel('Score', fontsize=16, fontweight='bold')\n",
    "ax.set_ylabel('Number', fontsize=16, fontweight='bold')"
   ]
  },
  {
   "cell_type": "markdown",
   "metadata": {},
   "source": [
    "The histogram for both the chain and non-chain restaurants has been combined into one large comparison"
   ]
  },
  {
   "cell_type": "code",
   "execution_count": 9,
   "metadata": {},
   "outputs": [
    {
     "name": "stderr",
     "output_type": "stream",
     "text": [
      "/opt/conda/lib/python3.7/site-packages/ipykernel_launcher.py:4: MatplotlibDeprecationWarning: Adding an axes using the same arguments as a previous axes currently reuses the earlier instance.  In a future version, a new instance will always be created and returned.  Meanwhile, this warning can be suppressed, and the future behavior ensured, by passing a unique label to each axes instance.\n",
      "  after removing the cwd from sys.path.\n"
     ]
    },
    {
     "data": {
      "text/plain": [
       "Text(0, 0.5, 'Percentage')"
      ]
     },
     "execution_count": 9,
     "metadata": {},
     "output_type": "execute_result"
    },
    {
     "data": {
      "image/png": "[encoded data removed]",
      "text/plain": [
       "<Figure size 432x288 with 1 Axes>"
      ]
     },
     "metadata": {
      "needs_background": "light"
     },
     "output_type": "display_data"
    }
   ],
   "source": [
    "plt.hist([chain_df['score'], non_chain_df['score']], label=['Chain', 'Non-Chain'], density = True)\n",
    "plt.title('Average Restaurant Scores',fontsize=18, fontweight='bold', loc='left')\n",
    "plt.legend(loc='upper left', scatterpoints=1, frameon=False)\n",
    "ax = plt.axes()\n",
    "ax.set_xlabel('Score', fontsize=16, fontweight='bold')\n",
    "ax.set_ylabel('Percentage', fontsize=16, fontweight='bold')"
   ]
  },
  {
   "cell_type": "markdown",
   "metadata": {},
   "source": [
    "Here the height of each bar is the total number of each bin multiplied by the size of the bin over the total number of observations with both chain and non-chain restaurants graphed."
   ]
  },
  {
   "cell_type": "code",
   "execution_count": 10,
   "metadata": {},
   "outputs": [
    {
     "name": "stderr",
     "output_type": "stream",
     "text": [
      "/opt/conda/lib/python3.7/site-packages/ipykernel_launcher.py:7: MatplotlibDeprecationWarning: Adding an axes using the same arguments as a previous axes currently reuses the earlier instance.  In a future version, a new instance will always be created and returned.  Meanwhile, this warning can be suppressed, and the future behavior ensured, by passing a unique label to each axes instance.\n",
      "  import sys\n"
     ]
    },
    {
     "data": {
      "text/plain": [
       "Text(0, 0.5, 'Percentage')"
      ]
     },
     "execution_count": 10,
     "metadata": {},
     "output_type": "execute_result"
    },
    {
     "data": {
      "image/png": "[encoded data removed]",
      "text/plain": [
       "<Figure size 432x288 with 1 Axes>"
      ]
     },
     "metadata": {
      "needs_background": "light"
     },
     "output_type": "display_data"
    }
   ],
   "source": [
    "chain_df = chain_df[['hsisid', 'score']]\n",
    "non_chain_df = non_chain_df[['hsisid', 'score']]\n",
    "chain_df.groupby(['hsisid']).mean()[['score']]\n",
    "plt.hist([chain_df.groupby(['hsisid']).mean()['score'], non_chain_df.groupby(['hsisid']).mean()['score']], label=['Chain', 'Non-Chain'], density = True)\n",
    "plt.title('Restaurant Scores Average per Location',fontsize=18, fontweight='bold', loc='left')\n",
    "plt.legend(loc='upper left', scatterpoints=1, frameon=False)\n",
    "ax = plt.axes()\n",
    "ax.set_xlabel('Score', fontsize=16, fontweight='bold')\n",
    "ax.set_ylabel('Percentage', fontsize=16, fontweight='bold')"
   ]
  },
  {
   "cell_type": "markdown",
   "metadata": {},
   "source": [
    "The histogram here graphs the average score of each location across all of its inspections, where the height of the bar is the percentage of occurrences of that average score relative to the total number of average scores for each location"
   ]
  },
  {
   "cell_type": "code",
   "execution_count": 11,
   "metadata": {},
   "outputs": [
    {
     "name": "stdout",
     "output_type": "stream",
     "text": [
      "95.9328090782401 mean of all chain scores\n",
      "95.47278081011204 mean of all non-chain scores\n",
      "96.04167579196887 mean of mean location chain scores\n",
      "95.50230227873978 mean of mean location non-chain scores\n"
     ]
    }
   ],
   "source": [
    "print(chain_df['score'].mean(), \"mean of all chain scores\")\n",
    "print(non_chain_df['score'].mean(), \"mean of all non-chain scores\")\n",
    "\n",
    "print(chain_df.groupby(['hsisid']).mean()['score'].mean(), \"mean of mean location chain scores\")\n",
    "print(non_chain_df.groupby(['hsisid']).mean()['score'].mean(), \"mean of mean location non-chain scores\")"
   ]
  },
  {
   "cell_type": "markdown",
   "metadata": {},
   "source": [
    "# Results\n",
    "The scores for each location for chain restaurants vs. non-chain restaurants did not very significantly, but there was a 0.5 average score difference between chain locations and non-chain locations. Non-chain locations did seem to have a overall higher number of inspections, most likely due to a longer history within the area than the corresponding chain locations. Chain restaurants also tended towards very strongly away from scores below 90 in the average per location suggesting that they likely had very strong course corrections away from 'B' ratings after recieving their grade. This could be due to corporate interference or management trying to course correct away from poor scores.\n",
    "\n",
    "It is also possible that non-chain locations have to deal with higher risk food items and therefore have to work with stricter food handling requirements. A few of the non-chain locations included in the non-chain dataset are sushi restaurants which have to work with raw fish and have different expectations than a burger restaurant for example. Particulars of the preparation could also account for lower scores such as hand tossed pizza requiring extensive contact with many different raw ingredients."
   ]
  },
  {
   "cell_type": "markdown",
   "metadata": {},
   "source": [
    "# Privacy/Ethics Concerns\n",
    "There are many privacy concerns in this data analysis since unique identifiers are required for the dataset to perform its analysis. The question asked carries many of the ethical concerns of this analysis since it is a direct reflection on food safety between two competing groups. This analysis could influence the spending habits of potential customers since the conclusion that chain restaurants have a slightly higher average food safety rating than non-chain restaurants could influnce customers into believing that chain restaurants have safer food. This study could also potentially highlight restaurants with poor food records that have changed management or practices to improve since it does not take into account improvement over time or the current state of the restaurant. This analysis also does not take into account the judging criterion of specific food inspectors and any tendancies they may have to mark a restaurant up or down. \n",
    "\n",
    "A higher food inspection score can also not be representative of the safety of the food overall since restaurants often prepare for health inspections and ensure that any poor practices may be covered up. The high average scores of ~95 for all of the restaurants sampled does not ensure that all food is safe to consume. Customers may be misled by the conculsion of this analysis since food safety concerns may not all be caught by the health inspectors. \n",
    "The data used may also not be representative of the whole world as well. Since health inspection mandates are set by local or state governments, there may be the possiblity that different standards were set for different restaurants. These different standards could have led to an uneven distribution of inspection scores between both chain and non-chain restaurants depending on location.  \n",
    "\n",
    "I attempted to handle these concerns by leaving the HSISIDs out of the discussion as well as making a counterpoint to the observed results that the results of these safety inspections may not reflect the actual safety of the food that the consumer wishes to consume. I state that the customer should always use their best judgement in choosing what to eat and that food practices may also vary by region and could have an adverse affect on some rather than others. Foodborne illnesses are often spread by a single vector and little can be done to prevent outbreaks due to the responsiblity often being attributed to a single individual. For these reasons, the reader should keep up to date and be responsible in protecting themselves when it comes to food safety and restaurants. "
   ]
  },
  {
   "cell_type": "markdown",
   "metadata": {},
   "source": [
    "# Conclusion\n",
    "There is a small difference between the average scores of chain restaurants vs. non-chain restaurants. As always, customers should exercise their best judgement when ordering food from a restaurant, but it seems that larger corporate control does allow for tigher control on food safety practices. The limitiations of this study were a lack of limits on both region and inspector. Since different regions have different food safety guidelines and different inspectors often tend towards different scores, variations in average scores could be due to these factors. The reasons why restaurants were marked down were also omitted, and depending on the inspector could be practice or safety related, leading to discrepancies between the score provided and the actual health risks of the business. It is hard to draw wider implications from this study due to the nature of business preparing for food safety inspections as well as the nature of foodbourne illnesses."
   ]
  }
 ],
 "metadata": {
  "kernelspec": {
   "display_name": "Python 3",
   "language": "python",
   "name": "python3"
  },
  "language_info": {
   "codemirror_mode": {
    "name": "ipython",
    "version": 3
   },
   "file_extension": ".py",
   "mimetype": "text/x-python",
   "name": "python",
   "nbconvert_exporter": "python",
   "pygments_lexer": "ipython3",
   "version": "3.7.3"
  }
 },
 "nbformat": 4,
 "nbformat_minor": 2
}
