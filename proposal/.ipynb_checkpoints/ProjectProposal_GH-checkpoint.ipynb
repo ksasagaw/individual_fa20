{
 "cells": [
  {
   "cell_type": "markdown",
   "metadata": {},
   "source": [
    "# COGS 108 - Project Proposal"
   ]
  },
  {
   "cell_type": "markdown",
   "metadata": {},
   "source": [
    "# Names & GitHub ID\n",
    "\n",
    "- Name: Kyle Sasagawa\n",
    "- GitHub Username: ksasagaw"
   ]
  },
  {
   "cell_type": "markdown",
   "metadata": {},
   "source": [
    "# Research Question"
   ]
  },
  {
   "cell_type": "markdown",
   "metadata": {},
   "source": [
    "How do public parks affect tourism?"
   ]
  },
  {
   "cell_type": "markdown",
   "metadata": {},
   "source": [
    "## Background and Prior Work"
   ]
  },
  {
   "cell_type": "markdown",
   "metadata": {},
   "source": [
    "*Fill in your background and prior work here. Be sure to specify which statements are from which references.* \n",
    "The city of San Diego has over 400 parks with 40000+ acres of park land. A majority of these parks are open space parks, areas to hike and ride bikes out in nature. The city also manages public beaches and areas like Balboa Park as well as Mission Bay Park. The city's goals for \"resource-based parks\" is to make available to the general public specific resources, whether they are historical, natural or scenic areas.(2)\n",
    "\n",
    "These resource-based parks provide a major point of drawing tourism from outside san diego. Balboa park is rated fifth on the list of things to do by tripadvisor for the amount of visitor tours it provides as well as the many features of the park itself. San Diego beaches are also included on that list, with the La Jolla cove being placed second and the shores being placed sixth on the list. (2)\n",
    "\n",
    "My question is to what degree does the extensive San Diego park system affect tourism, considering that a few of San Diego's landmarks are public parks.\n",
    "\n",
    "References (include links):\n",
    "- 1)https://www.tripadvisor.com/Attractions-g60750-Activities-San_Diego_California.html\n",
    "- 2)https://www.sandiego.gov/sites/default/files/consultantsguide2019.pdf"
   ]
  },
  {
   "cell_type": "markdown",
   "metadata": {},
   "source": [
    "# Hypothesis\n"
   ]
  },
  {
   "cell_type": "markdown",
   "metadata": {},
   "source": [
    "My hypothesis is that the large resource-based parks provide a significant boost to tourism, and that beaches make up a majority of the tourist attraction for the city. I predict that Balboa park also provides a draw to tourists, but not as much as the beaches and the San Diego zoo."
   ]
  },
  {
   "cell_type": "markdown",
   "metadata": {},
   "source": [
    "# Data"
   ]
  },
  {
   "cell_type": "markdown",
   "metadata": {},
   "source": [
    "*Explain what the ideal dataset you would want to answer this question. (This should include: What variables? How many observations? Who/what/how would these data be collected? How would these data be stored/organized?)*\n",
    "The ideal dataset I would want to answer this question would be a set of yearly observations about both park attendances and attendance for non-park attractions. Ideally there would be a large amount of these observations, dating back before specific renovations to both beaches and balboa park. This data would be collected by the city of san diego and the different companies that own the private tourist attractions in San Diego. A yearly review of the number of tourists or the state of the tourism industry by the city of san diego would also be helpful in comparing the individual draw of each attraction."
   ]
  },
  {
   "cell_type": "markdown",
   "metadata": {},
   "source": [
    "# Ethics & Privacy"
   ]
  },
  {
   "cell_type": "markdown",
   "metadata": {},
   "source": [
    "*Fill in your ethics & privacy discussion here*\n",
    "The data collected most likely represents a minority of citizens and gives more precidence to the upper class who can afford to consistently attend those lesure activities. The data would most likely overrepresent those with the means to travel or residents who are more wealthy. Properly representing minority tourist groups would be a difficult task as I assume the data does not track any data about the individuals who attend each of these attractions. The results of this data could also provide difficult implications for the city and how they manage their park services. As stated above, if the majority of park attendance is make up by the upper class, these public parks might potentially be modified to draw in more tourists by appealing to the upper class demographic. This could potentially deprive or restrict lower class access to these public parks and remove some of the cultural connections that the cultural resource parks provide."
   ]
  }
 ],
 "metadata": {
  "kernelspec": {
   "display_name": "Python 3",
   "language": "python",
   "name": "python3"
  },
  "language_info": {
   "codemirror_mode": {
    "name": "ipython",
    "version": 3
   },
   "file_extension": ".py",
   "mimetype": "text/x-python",
   "name": "python",
   "nbconvert_exporter": "python",
   "pygments_lexer": "ipython3",
   "version": "3.7.6"
  }
 },
 "nbformat": 4,
 "nbformat_minor": 2
}
